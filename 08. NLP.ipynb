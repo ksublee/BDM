{
 "cells": [
  {
   "cell_type": "markdown",
   "id": "1ece3b43-9593-46ef-9ca5-26031d122ea2",
   "metadata": {},
   "source": [
    "# Natural language processing\n",
    "\n",
    "이 장에서는 문장을 다루는 학습 예제들에 대해 살펴본다. "
   ]
  },
  {
   "cell_type": "markdown",
   "id": "20eb28d1-a0cd-47ff-bb82-204bbd131377",
   "metadata": {},
   "source": [
    "## Embedding\n",
    "임베딩(Embedding)은 자연어 처리에서 단어나 문장을 수치화된 벡터로 변환하는 기술을 말한다.\r\n",
    "\n",
    "이러한 임베딩은 단어 간의 의미적 유사성을 보존하면서 컴퓨터가 효과적으로 텍스트를 이해하고 처리할 수 있도록 도와준다.\n",
    "\r\n",
    "주로 단어 임베딩은 단어의 의미를 나타내는 다차원 공간에서의 위치로 표현되며, 이를 통해 모델은 단어 간의 관계를 학습하고 문맥을 이해할 수 있다\n",
    ".\n",
    "본격적으로 IMDB 예제를 진행하기 앞서, 간단한 embedding example을 살펴보자.\n",
    "\n",
    "다음의 예제에서는 정수로 구성된 배열을 2차원 실수 벡터들의 배열로 변환한다.\n",
    "\n",
    "여기서 입력으로 사용하는 정수는 가상의 단어들이라고 생각하면 되고, 출력 결과는 각 단어를 2차원 실수 벡터로 변환한 결과이다.\n",
    "\n",
    "layer가 훈련된 것이 아니기 때문에 결과 벡터는 무작위로 생성되었을 것이다.\n",
    "\n",
    "만약 embedding layer를 적절하게 훈련한다면, 비슷한 의미를 가지는 단어들이 비슷한 값의 벡터가 나오도록 신경망을 구성할 수 있을 것이다."
   ]
  },
  {
   "cell_type": "code",
   "execution_count": 12,
   "id": "131dbbe5-4afb-4bf9-99a1-7d1f9359fc24",
   "metadata": {},
   "outputs": [
    {
     "data": {
      "text/plain": [
       "<tf.Tensor: shape=(3, 10, 2), dtype=float32, numpy=\n",
       "array([[[ 0.04111023,  0.02856156],\n",
       "        [ 0.02179558,  0.03033245],\n",
       "        [ 0.03952059,  0.02329636],\n",
       "        [ 0.02232749, -0.02355334],\n",
       "        [ 0.0103115 , -0.03904294],\n",
       "        [ 0.03914398,  0.03183964],\n",
       "        [ 0.02244112,  0.04641868],\n",
       "        [-0.02711848, -0.01407101],\n",
       "        [-0.04188561, -0.04535853],\n",
       "        [-0.04188561, -0.04535853]],\n",
       "\n",
       "       [[ 0.03952059,  0.02329636],\n",
       "        [ 0.02232749, -0.02355334],\n",
       "        [ 0.04111023,  0.02856156],\n",
       "        [ 0.03914398,  0.03183964],\n",
       "        [ 0.02244112,  0.04641868],\n",
       "        [-0.02711848, -0.01407101],\n",
       "        [-0.04188561, -0.04535853],\n",
       "        [ 0.02179558,  0.03033245],\n",
       "        [ 0.03410177, -0.04753648],\n",
       "        [ 0.03410177, -0.04753648]],\n",
       "\n",
       "       [[ 0.04111023,  0.02856156],\n",
       "        [ 0.04111023,  0.02856156],\n",
       "        [ 0.02179558,  0.03033245],\n",
       "        [ 0.03952059,  0.02329636],\n",
       "        [ 0.02179558,  0.03033245],\n",
       "        [ 0.02179558,  0.03033245],\n",
       "        [ 0.02179558,  0.03033245],\n",
       "        [ 0.02179558,  0.03033245],\n",
       "        [ 0.04111023,  0.02856156],\n",
       "        [ 0.04111023,  0.02856156]]], dtype=float32)>"
      ]
     },
     "execution_count": 12,
     "metadata": {},
     "output_type": "execute_result"
    }
   ],
   "source": [
    "# example : embedding\n",
    "x = np.array([[1,2,3,4,5,6,7,8,9,9],\n",
    "              [3,4,1,6,7,8,9,2,0,0],\n",
    "              [1,1,2,3,2,2,2,2,1,1]])\n",
    "              \n",
    "tf.keras.layers.Embedding(input_dim = 10, output_dim = 2, input_length=10)(x)"
   ]
  },
  {
   "cell_type": "markdown",
   "id": "907a9579-c6b3-46e6-8150-6d3c7ed991ce",
   "metadata": {},
   "source": [
    "이번에는 실제 텍스트로 구성된 문장을 이용해 보자.\n",
    "\n",
    "다음의 예제에서는 크게 긍정적인 짧은 문장과 부정적인 짧은 문장들을 이용하고 있다."
   ]
  },
  {
   "cell_type": "code",
   "execution_count": 87,
   "id": "0e7144f6-31a0-4b8a-bffc-9f519324c0e5",
   "metadata": {},
   "outputs": [
    {
     "name": "stdout",
     "output_type": "stream",
     "text": [
      "[[9, 32], [39, 39], [24, 43], [17, 39], [46], [35], [8, 43], [43, 39], [8, 39], [43, 26, 32, 15]]\n"
     ]
    }
   ],
   "source": [
    "from numpy import array\n",
    "\n",
    "# define documents\n",
    "docs = ['Well done!',\n",
    "'Good work',\n",
    "'Great effort',\n",
    "'nice work',\n",
    "'Excellent!',\n",
    "'Weak',\n",
    "'Poor effort!',\n",
    "'not good',\n",
    "'poor work',\n",
    "'Could have done better.']\n",
    "\n",
    "# define class labels\n",
    "labels = array([1,1,1,1,1,0,0,0,0,0])\n",
    "# 단어의 최대 숫자\n",
    "vocab_size = 50\n",
    "\n",
    "# 단어를 정수로 변환\n",
    "encoded_docs = [tf.keras.preprocessing.text.one_hot(d, vocab_size) for d in docs]\n",
    "print(encoded_docs)"
   ]
  },
  {
   "cell_type": "code",
   "execution_count": 86,
   "id": "c29f907c-e161-468a-a02a-98ee929a73e3",
   "metadata": {},
   "outputs": [
    {
     "data": {
      "text/plain": [
       "array([[ 9, 32,  0,  0],\n",
       "       [39, 39,  0,  0],\n",
       "       [24, 43,  0,  0],\n",
       "       [17, 39,  0,  0],\n",
       "       [46,  0,  0,  0],\n",
       "       [35,  0,  0,  0],\n",
       "       [ 8, 43,  0,  0],\n",
       "       [43, 39,  0,  0],\n",
       "       [ 8, 39,  0,  0],\n",
       "       [43, 26, 32, 15]])"
      ]
     },
     "execution_count": 86,
     "metadata": {},
     "output_type": "execute_result"
    }
   ],
   "source": [
    "# pad documents to a max length of 4 words\n",
    "max_length = 4\n",
    "\n",
    "padded_docs = keras.preprocessing.sequence.pad_sequences(encoded_docs, maxlen=max_length, padding='post')\n",
    "padded_docs"
   ]
  },
  {
   "cell_type": "markdown",
   "id": "db621cc8-4e61-441c-8db4-83c2b1a86576",
   "metadata": {},
   "source": [
    "모형은 [`keras.layers.Embedding`](https://keras.io/api/layers/core_layers/embedding/)와 Flatten, 출력층만 있는 매우 간단한 모델이다.\n",
    "\n",
    "`output_dim = 4`은 임베딩 되는 벡터의 차원을 정의한다."
   ]
  },
  {
   "cell_type": "code",
   "execution_count": 89,
   "id": "14915d59-e0f2-4d6e-abba-5d06adf2ce8a",
   "metadata": {},
   "outputs": [
    {
     "name": "stdout",
     "output_type": "stream",
     "text": [
      "Model: \"sequential_8\"\n",
      "_________________________________________________________________\n",
      " Layer (type)                Output Shape              Param #   \n",
      "=================================================================\n",
      " embedding_8 (Embedding)     (None, 4, 4)              200       \n",
      "                                                                 \n",
      " flatten_1 (Flatten)         (None, 16)                0         \n",
      "                                                                 \n",
      " dense_9 (Dense)             (None, 1)                 17        \n",
      "                                                                 \n",
      "=================================================================\n",
      "Total params: 217 (868.00 Byte)\n",
      "Trainable params: 217 (868.00 Byte)\n",
      "Non-trainable params: 0 (0.00 Byte)\n",
      "_________________________________________________________________\n"
     ]
    }
   ],
   "source": [
    "# define the model\n",
    "embedding_model = keras.models.Sequential()\n",
    "embedding_model.add(keras.layers.Embedding(input_dim = vocab_size, output_dim = 4, input_length=max_length))\n",
    "embedding_model.add(keras.layers.Flatten())\n",
    "embedding_model.add(keras.layers.Dense(1, activation='sigmoid'))\n",
    "# compile the model\n",
    "embedding_model.compile(optimizer='adam', loss='binary_crossentropy', metrics=['accuracy'])\n",
    "# summarize the model\n",
    "embedding_model.summary()"
   ]
  },
  {
   "cell_type": "code",
   "execution_count": 90,
   "id": "b20aec40-1462-4328-a220-e4d5b0828fdd",
   "metadata": {},
   "outputs": [
    {
     "name": "stdout",
     "output_type": "stream",
     "text": [
      "Accuracy: 100.000000\n"
     ]
    }
   ],
   "source": [
    "# fit the model\n",
    "embedding_model.fit(padded_docs, labels, epochs=50, verbose=0)\n",
    "# evaluate the model\n",
    "loss, accuracy = embedding_model.evaluate(padded_docs, labels, verbose=0)\n",
    "print('Accuracy: %f' % (accuracy*100))"
   ]
  },
  {
   "cell_type": "markdown",
   "id": "0bbe6284-57a0-4ea9-975a-e1d6253c22c0",
   "metadata": {},
   "source": [
    "`padded_docs`를 첫번째 embedding layer에 통과시키면 어떻게 되는지 살펴보자."
   ]
  },
  {
   "cell_type": "code",
   "execution_count": 91,
   "id": "584c7e71-6b53-4f34-bddc-c41c36812dc3",
   "metadata": {},
   "outputs": [
    {
     "data": {
      "text/plain": [
       "array([[ 9, 32,  0,  0]])"
      ]
     },
     "execution_count": 91,
     "metadata": {},
     "output_type": "execute_result"
    }
   ],
   "source": [
    "padded_docs[:1]"
   ]
  },
  {
   "cell_type": "code",
   "execution_count": 92,
   "id": "1d2c190a-9baa-40b3-8ab8-37ef3c287145",
   "metadata": {},
   "outputs": [
    {
     "data": {
      "text/plain": [
       "<tf.Tensor: shape=(1, 4, 4), dtype=float32, numpy=\n",
       "array([[[-0.0288461 ,  0.02631599, -0.08067261,  0.0483021 ],\n",
       "        [ 0.05453878,  0.03977061,  0.05376922,  0.00091873],\n",
       "        [-0.00220836, -0.06669747, -0.02379277,  0.00365136],\n",
       "        [-0.00220836, -0.06669747, -0.02379277,  0.00365136]]],\n",
       "      dtype=float32)>"
      ]
     },
     "execution_count": 92,
     "metadata": {},
     "output_type": "execute_result"
    }
   ],
   "source": [
    "embedding_model.layers[0](padded_docs[:1])"
   ]
  },
  {
   "cell_type": "code",
   "execution_count": 19,
   "id": "9a7046f1-7bcf-40db-add8-1f81de342e6e",
   "metadata": {},
   "outputs": [
    {
     "data": {
      "text/plain": [
       "<tf.Tensor: shape=(1, 4, 4), dtype=float32, numpy=\n",
       "array([[[ 0.00124623,  0.05647537,  0.09184024,  0.02578839],\n",
       "        [ 0.00124623,  0.05647537,  0.09184024,  0.02578839],\n",
       "        [ 0.09490125, -0.00593875, -0.07582284, -0.00395645],\n",
       "        [ 0.09490125, -0.00593875, -0.07582284, -0.00395645]]],\n",
       "      dtype=float32)>"
      ]
     },
     "execution_count": 19,
     "metadata": {},
     "output_type": "execute_result"
    }
   ],
   "source": [
    "embedding_model.layers[0](padded_docs[1:2])"
   ]
  },
  {
   "cell_type": "markdown",
   "id": "50159516-24e3-43a1-8a9b-44ef66aeb7cf",
   "metadata": {},
   "source": [
    "간단히 유클리디안 거리를 계산하여 비교해 보자.\n",
    "\n",
    "아래처럼 좋은 의미의 문장끼리는 가까운 벡터로, 반대 의미의 문장끼리는 먼 벡터로 표현하는 것이 훈련의 목표 중 하나이다."
   ]
  },
  {
   "cell_type": "code",
   "execution_count": 93,
   "id": "a4702ba7-f198-4a02-94d5-ae8474a30136",
   "metadata": {},
   "outputs": [
    {
     "data": {
      "text/plain": [
       "<tf.Tensor: shape=(), dtype=float32, numpy=0.16157942>"
      ]
     },
     "execution_count": 93,
     "metadata": {},
     "output_type": "execute_result"
    }
   ],
   "source": [
    "# 'Well done!'과 'Good work'의 거리\n",
    "tf.norm(embedding_model.layers[0](padded_docs[:1]) - embedding_model.layers[0](padded_docs[1:2]))"
   ]
  },
  {
   "cell_type": "code",
   "execution_count": 94,
   "id": "ae22add1-c039-4b5a-893e-d3600fbdc8e5",
   "metadata": {},
   "outputs": [
    {
     "data": {
      "text/plain": [
       "<tf.Tensor: shape=(), dtype=float32, numpy=0.2702434>"
      ]
     },
     "execution_count": 94,
     "metadata": {},
     "output_type": "execute_result"
    }
   ],
   "source": [
    "#'Well done!'과 'poor work'의 거리\n",
    "tf.norm(embedding_model.layers[0](padded_docs[:1]) - embedding_model.layers[0](padded_docs[8:9]))"
   ]
  },
  {
   "cell_type": "markdown",
   "id": "331dae37-6731-4504-9e93-6bb05b4ae9d4",
   "metadata": {},
   "source": [
    "## IMDB 영화 리뷰 예제 \n",
    "\n",
    "이 예제는 IMDB 사이트의 영화 리뷰(review) 텍스트를 긍정(positive) 또는 부정(negative)으로 분류한다.\n",
    "\n",
    "가장 기본적인 dense layer만을 이용한 모형을 훈련하겠다."
   ]
  },
  {
   "cell_type": "code",
   "execution_count": 95,
   "id": "13080332-bab5-4452-94fa-eae5e059105a",
   "metadata": {},
   "outputs": [],
   "source": [
    "import keras\n",
    "import tensorflow as tf\n",
    "import numpy as np"
   ]
  },
  {
   "cell_type": "code",
   "execution_count": 96,
   "id": "9c6f3561-eedb-4470-8139-162732451bed",
   "metadata": {},
   "outputs": [],
   "source": [
    "imdb = keras.datasets.imdb\n",
    "\n",
    "(train_data, train_labels), (test_data, test_labels) = imdb.load_data(num_words=10000)"
   ]
  },
  {
   "cell_type": "markdown",
   "id": "c2b6e10a-5efa-4a04-a070-feccc6bee797",
   "metadata": {},
   "source": [
    "위에서 ```num_words=10000```은 훈련 데이터에서 가장 많이 등장하는 상위 10,000개의 단어를 선택한다. \n",
    "\n",
    "이 데이터셋의 샘플은 전처리된 정수 배열로, 영화 리뷰에 나오는 문장의 각 단어를 숫자로 변환한 것이다.\n",
    "\n",
    "- 이러한 과정을 토큰화 및 정수 인코딩 과정이라고 한다. \n",
    "\n",
    "레이블(label)은 정수 0 또는 1로서, 0은 부정적인 리뷰이고 1은 긍정적인 리뷰이다."
   ]
  },
  {
   "cell_type": "code",
   "execution_count": 3,
   "id": "81018cb0-10c7-4b62-bb9f-fcc3032b3cb8",
   "metadata": {},
   "outputs": [
    {
     "name": "stdout",
     "output_type": "stream",
     "text": [
      "[1, 14, 22, 16, 43, 530, 973, 1622, 1385, 65, 458, 4468, 66, 3941, 4, 173, 36, 256, 5, 25, 100, 43, 838, 112, 50, 670, 2, 9, 35, 480, 284, 5, 150, 4, 172, 112, 167, 2, 336, 385, 39, 4, 172, 4536, 1111, 17, 546, 38, 13, 447, 4, 192, 50, 16, 6, 147, 2025, 19, 14, 22, 4, 1920, 4613, 469, 4, 22, 71, 87, 12, 16, 43, 530, 38, 76, 15, 13, 1247, 4, 22, 17, 515, 17, 12, 16, 626, 18, 2, 5, 62, 386, 12, 8, 316, 8, 106, 5, 4, 2223, 5244, 16, 480, 66, 3785, 33, 4, 130, 12, 16, 38, 619, 5, 25, 124, 51, 36, 135, 48, 25, 1415, 33, 6, 22, 12, 215, 28, 77, 52, 5, 14, 407, 16, 82, 2, 8, 4, 107, 117, 5952, 15, 256, 4, 2, 7, 3766, 5, 723, 36, 71, 43, 530, 476, 26, 400, 317, 46, 7, 4, 2, 1029, 13, 104, 88, 4, 381, 15, 297, 98, 32, 2071, 56, 26, 141, 6, 194, 7486, 18, 4, 226, 22, 21, 134, 476, 26, 480, 5, 144, 30, 5535, 18, 51, 36, 28, 224, 92, 25, 104, 4, 226, 65, 16, 38, 1334, 88, 12, 16, 283, 5, 16, 4472, 113, 103, 32, 15, 16, 5345, 19, 178, 32]\n"
     ]
    }
   ],
   "source": [
    "print(train_data[0])"
   ]
  },
  {
   "cell_type": "code",
   "execution_count": 4,
   "id": "7f5b163e-1ef0-4317-a0b8-2709e4b06183",
   "metadata": {},
   "outputs": [
    {
     "data": {
      "text/plain": [
       "array([1, 0, 0, 1, 0, 0, 1, 0, 1, 0], dtype=int64)"
      ]
     },
     "execution_count": 4,
     "metadata": {},
     "output_type": "execute_result"
    }
   ],
   "source": [
    "train_labels[:10]"
   ]
  },
  {
   "cell_type": "markdown",
   "id": "a92bb07c-e2b7-488f-a3ac-8cab2311be29",
   "metadata": {},
   "source": [
    "다음은 정수를 다시 문자열로 변환할 필요가 있을 때 사용하기 위해 만들어졌다."
   ]
  },
  {
   "cell_type": "code",
   "execution_count": 5,
   "id": "3b2b6291-b442-4458-aef0-6b94b65db0e0",
   "metadata": {},
   "outputs": [],
   "source": [
    "word_index = imdb.get_word_index() "
   ]
  },
  {
   "cell_type": "code",
   "execution_count": 98,
   "id": "2812e821-7d58-4419-9677-8be7390a0a9d",
   "metadata": {},
   "outputs": [],
   "source": [
    "#check\n",
    "# word_index"
   ]
  },
  {
   "cell_type": "code",
   "execution_count": 101,
   "id": "26a00b11-b529-4c56-b18b-4a68c2440132",
   "metadata": {},
   "outputs": [
    {
     "data": {
      "text/plain": [
       "'fawn'"
      ]
     },
     "execution_count": 101,
     "metadata": {},
     "output_type": "execute_result"
    }
   ],
   "source": [
    "reverse_word_index.get(34704, '?')"
   ]
  },
  {
   "cell_type": "code",
   "execution_count": 102,
   "id": "0b2a4bb3-f74e-4894-9033-4ab5e427ce90",
   "metadata": {},
   "outputs": [],
   "source": [
    "# 처음 몇 개 인덱스는 특수 문자로 미리 사전에 정의되어 있음.\n",
    "word_index = {k:(v+3) for k,v in word_index.items()}\n",
    "word_index[\"<PAD>\"] = 0\n",
    "word_index[\"<START>\"] = 1\n",
    "word_index[\"<UNK>\"] = 2  # unknown\n",
    "word_index[\"<UNUSED>\"] = 3\n",
    "\n",
    "reverse_word_index = dict([(value, key) for (key, value) in word_index.items()])\n",
    "\n",
    "def decode_review(text):\n",
    "    return ' '.join([reverse_word_index.get(i, '?') for i in text])"
   ]
  },
  {
   "cell_type": "code",
   "execution_count": 103,
   "id": "85d68e4e-1ecb-4e78-8604-78e0831e5528",
   "metadata": {},
   "outputs": [
    {
     "data": {
      "text/plain": [
       "\"<START> ? <UNK> <UNK> be dennis ? lesson against films now could ? step br see better only to time <UNK> rock all remaining ' time shouting oh cheung ? christmas the <UNK> up funny ? movies point magic so pacing a it the all rock cutting have and ? apparently movie ? <UNK> tho ? carol from an they best up drama of of the especially is particularly films now actors up i compelling for film lack history they ? made up aren't is ? find would a extremely to biblical ? angry ? <UNK> the rave this br planes is was ? becomes have audience to <UNK> ? tells interest to and both not beautiful ? show's allowing and artists very of of hour devil cast who in itself going the having character by watching video ? hour having particular extremely every what me their wanted at itself having notch quite ? this me strongly laughs at put better reference this via from this all forced <UNK> horror ? thanks contained was <UNK> gets official plane hour <UNK> ex ? review of of time often a <UNK> who time elephant ? not elephant actors great having claim chorus seem and every ? get chorus ? would it rapture something go women's is unusually hour giving hour hour it switching ? <UNK> please the rave most penis coherent <UNK> to <UNK> ? expect the jr kind <UNK> a <UNK> to hero in a if style is most during historical is about ? ha deep ? confronted <UNK> was out the ? realism <UNK> violent film been show brought of of <UNK> <UNK> amitabh not elephant to park opposed actors not poor are destroyed was desperation going the great <UNK> and his to ? suspect into visual and object just to <UNK> for are a spoof movie ? reasons <UNK> 9 ? <UNK> hoping heaven of of kind has a ? cruel sing giving great are <UNK> and where ? free ? free guys not <UNK> wit hour best know thanks does ? are close and where ? free guys ? poor the not particular of of are a ice and its ? anything <UNK> channel and ? <UNK> the have the <UNK> because <UNK> coherent see ? free his extremely from a is he to hour of of to in would her hour me <UNK> vision tribute <UNK> somebody ? <UNK> the though ? ? soon there <UNK> <UNK> the hiding free to school an me hard contrary was <UNK> this are drama ? would the not give seen of of <UNK> ? <UNK> <UNK> a performance ? because won <UNK> ? sucked takes with the rave show him who <UNK> br young party woman's was ? <UNK> the walter hour movie there hour for get who <UNK> br <UNK> in ending br come ? <UNK> white sequel average ? perfectly missed <UNK> the christine ? most who film feel no <UNK> ? <UNK> typical <UNK> the ? capitalize your and only ? with it a once and rave in have a performance worked it's film put <UNK> movie is sight fact film feel no among <UNK> ? female the dennis ? ? killed though nor the paul has on out serials it leave his extremely for my vietnam\""
      ]
     },
     "execution_count": 103,
     "metadata": {},
     "output_type": "execute_result"
    }
   ],
   "source": [
    "decode_review(train_data[3])"
   ]
  },
  {
   "cell_type": "markdown",
   "id": "946f79b9-33a7-4264-8fb6-6e6cd29fe6ad",
   "metadata": {},
   "source": [
    "#### 데이터 구성\n",
    "\n",
    "리뷰(정수 배열)는 신경망에 주입하기 전에 텐서로 변환되어야 한다. 변환하는 방법에는 몇 가지가 있다.\n",
    "\n",
    "* 원-핫 인코딩(one-hot encoding)은 정수 배열을 0과 1로 이루어진 벡터로 변환한다. 예를 들어 배열 ```[3, 5]```을 인덱스 3과 5만 1이고 나머지는 모두 0인 10,000차원 벡터로 변환할 수 있다. \n",
    "\n",
    "* 다른 방법으로는, 정수 배열의 길이가 모두 같도록 패딩(padding), 예를 들어 0의 값, 을 추가해 ```max_length_of_all_review * num_reviews``` 크기의 정수 텐서를 만든다. 이런 형태의 텐서를 다룰 수 있는 임베딩(embedding) 층을 신경망의 첫 번째 층으로 사용할 수 있다.\n",
    "\n",
    "이 예제에서는 두 번째 방식을 사용한다."
   ]
  },
  {
   "cell_type": "code",
   "execution_count": 104,
   "id": "03761793-ab03-4760-a1c3-ff98223b5364",
   "metadata": {},
   "outputs": [],
   "source": [
    "train_data = keras.preprocessing.sequence.pad_sequences(train_data,\n",
    "                                                        value=word_index[\"<PAD>\"],\n",
    "                                                        padding='post')\n",
    "\n",
    "test_data = keras.preprocessing.sequence.pad_sequences(test_data,\n",
    "                                                       value=word_index[\"<PAD>\"],\n",
    "                                                       padding='post',)"
   ]
  },
  {
   "cell_type": "code",
   "execution_count": 105,
   "id": "67e40957-719a-4537-b5e0-c1d5f2355fff",
   "metadata": {},
   "outputs": [],
   "source": [
    "# check\n",
    "#decode_review(train_data[3])"
   ]
  },
  {
   "cell_type": "code",
   "execution_count": 106,
   "id": "37a8c959-7c27-4e10-8d94-69de516bc77d",
   "metadata": {},
   "outputs": [
    {
     "data": {
      "text/plain": [
       "(25000, 2494)"
      ]
     },
     "execution_count": 106,
     "metadata": {},
     "output_type": "execute_result"
    }
   ],
   "source": [
    "train_data.shape"
   ]
  },
  {
   "cell_type": "markdown",
   "id": "ce6b7022-fc9a-46a4-985b-35049b63a0e9",
   "metadata": {},
   "source": [
    "이 예제의 입력 데이터는 단어 인덱스의 배열이며 예측할 레이블은 0 또는 1이다.  \n",
    "\n",
    "아래 코드에서\n",
    "\n",
    "1. 첫 번째 층은  [`Embedding`](https://keras.io/api/layers/core_layers/embedding/) 층이다. 이 층은 정수로 인코딩된 단어를 입력 받아, 각 단어 인덱스에 해당하는 임베딩 벡터를 찾는다. 임베딩 벡터는 실수로 구성되어 있으며, 단어 간 유사도를 고려하여 비슷한 단어는 비슷한 벡터가 되도록 훈련한는 것이 목표이다.\n",
    "2. 그 다음 GlobalAveragePooling1D 층은 sequence 차원에 대해 평균을 계산하여 각 샘플에 대해 고정된 길이의 출력 벡터를 반환한다. 이는 길이가 다른 입력을 다루는 가장 간단한 방법이다.\n",
    "\n",
    "4. 이 고정 길이의 출력 벡터는 16개의 은닉 유닛을 가진 완전 연결(fully-connected) 층(Dense)을 거친다.\n",
    "\n",
    "5. 마지막 층은 하나의 출력 노드(node)를 가진 완전 연결 층으로. sigmoid 활성화 함수를 사용하여 0과 1 사이의 실수를 출력한다. "
   ]
  },
  {
   "cell_type": "markdown",
   "id": "13f181f6-7abd-4103-98a8-760aef73efad",
   "metadata": {},
   "source": [
    "더 자세히 `keras.layers.Embedding(vocab_size, 16, input_length=train_data.shape[1])`를 살펴보자.\n",
    "\n",
    "- `input_dim = vocab_size`은 총 10,000개로 살펴볼 단어의 개수이다.\n",
    "- `output_dim = 16`은 embedding된 벡터의 dimension이다.\n",
    "- `input_length`는 입력되는 sequence (정수로 표현된 문장)의 길이로서 `train_data.shape[1] = 2494`이다."
   ]
  },
  {
   "cell_type": "code",
   "execution_count": 107,
   "id": "ce4a2904-6ee6-433d-91ab-7fa6c1ab9e21",
   "metadata": {},
   "outputs": [
    {
     "name": "stdout",
     "output_type": "stream",
     "text": [
      "Model: \"sequential_9\"\n",
      "_________________________________________________________________\n",
      " Layer (type)                Output Shape              Param #   \n",
      "=================================================================\n",
      " embedding_9 (Embedding)     (None, 2494, 16)          160000    \n",
      "                                                                 \n",
      " global_average_pooling1d_2  (None, 16)                0         \n",
      "  (GlobalAveragePooling1D)                                       \n",
      "                                                                 \n",
      " dense_10 (Dense)            (None, 16)                272       \n",
      "                                                                 \n",
      " dense_11 (Dense)            (None, 1)                 17        \n",
      "                                                                 \n",
      "=================================================================\n",
      "Total params: 160289 (626.13 KB)\n",
      "Trainable params: 160289 (626.13 KB)\n",
      "Non-trainable params: 0 (0.00 Byte)\n",
      "_________________________________________________________________\n"
     ]
    }
   ],
   "source": [
    "# 학습에서 고려할 최대 단어의 개수, 가장 빈도가 높은 10,000개의 단어만을 고려하고 나머지는 무시\n",
    "vocab_size = 10000 \n",
    "\n",
    "model = keras.Sequential()\n",
    "model.add(keras.layers.Embedding(input_dim = vocab_size, output_dim = 16, input_length=train_data.shape[1]))\n",
    "model.add(keras.layers.GlobalAveragePooling1D())\n",
    "model.add(keras.layers.Dense(16, activation='relu'))\n",
    "model.add(keras.layers.Dense(1, activation='sigmoid'))\n",
    "\n",
    "model.summary()"
   ]
  },
  {
   "cell_type": "markdown",
   "id": "a51115a0-99dd-4245-bbc8-84fe789a05c5",
   "metadata": {},
   "source": [
    "#### [`GlobalAveragePooling1D`](https://keras.io/keras_core/api/layers/pooling_layers/global_average_pooling1d/)\n",
    "\n",
    "아래에서 `x`는 2개의 3x4 데이터이다. 3x4자료를 열 별로 평균을 내어 2개의 4크기의 자료로 만드는 과정이다."
   ]
  },
  {
   "cell_type": "code",
   "execution_count": 108,
   "id": "02442a79-6430-49da-8dd2-42ac4d04583b",
   "metadata": {},
   "outputs": [
    {
     "data": {
      "text/plain": [
       "(2, 3, 4)"
      ]
     },
     "execution_count": 108,
     "metadata": {},
     "output_type": "execute_result"
    }
   ],
   "source": [
    "# example : GlobalAveragePooling1D\n",
    "\n",
    "x = np.array([[[0,  0,  -1,  0.01112024],\n",
    "              [ 1,  2,  -5, -1.0028812 ],\n",
    "              [ 2, 10 ,  5 ,  1.0640281 ]],\n",
    "\n",
    "             [[ 10, 0.8804889 ,  0.9927939 ,  0.67354965],\n",
    "              [20, -0.41982535, -0.8374683 ,  0.7963619 ],\n",
    "              [30 ,0.04415631,  1.5271544 , -1.0769233 ]]])\n",
    "x.shape"
   ]
  },
  {
   "cell_type": "code",
   "execution_count": 109,
   "id": "dc6204a2-d1d5-4fe8-9ff8-3b2916cd879b",
   "metadata": {},
   "outputs": [
    {
     "data": {
      "text/plain": [
       "<tf.Tensor: shape=(2, 4), dtype=float32, numpy=\n",
       "array([[ 1.        ,  4.        , -0.33333334,  0.02408908],\n",
       "       [20.        ,  0.16827327,  0.5608267 ,  0.13099611]],\n",
       "      dtype=float32)>"
      ]
     },
     "execution_count": 109,
     "metadata": {},
     "output_type": "execute_result"
    }
   ],
   "source": [
    "y = tf.keras.layers.GlobalAveragePooling1D()(x)\n",
    "y"
   ]
  },
  {
   "cell_type": "markdown",
   "id": "4f9171c2-aeab-4557-8f65-cbb9ee529db2",
   "metadata": {},
   "source": [
    "이제 IMDB예제로 돌아가 모델을 컴파일하고 훈련하자."
   ]
  },
  {
   "cell_type": "code",
   "execution_count": 110,
   "id": "791ff85c-737a-4873-a728-6ec2cdb50d77",
   "metadata": {},
   "outputs": [],
   "source": [
    "model.compile(optimizer='adam',\n",
    "              loss='binary_crossentropy',\n",
    "              metrics=['accuracy'])"
   ]
  },
  {
   "cell_type": "code",
   "execution_count": 112,
   "id": "1e184ede-837e-4d1a-adb1-2889680385ec",
   "metadata": {},
   "outputs": [],
   "source": [
    "x_val = train_data[:10000]\n",
    "partial_x_train = train_data[10000:]\n",
    "\n",
    "y_val = train_labels[:10000]\n",
    "partial_y_train = train_labels[10000:]"
   ]
  },
  {
   "cell_type": "code",
   "execution_count": 113,
   "id": "6fd84add-b748-4f1c-b71c-1f235c7b094d",
   "metadata": {},
   "outputs": [
    {
     "name": "stdout",
     "output_type": "stream",
     "text": [
      "Epoch 1/40\n",
      "30/30 [==============================] - 5s 162ms/step - loss: 0.6931 - accuracy: 0.5015 - val_loss: 0.6931 - val_accuracy: 0.4947\n",
      "Epoch 2/40\n",
      "30/30 [==============================] - 4s 128ms/step - loss: 0.6930 - accuracy: 0.5039 - val_loss: 0.6930 - val_accuracy: 0.4950\n",
      "Epoch 3/40\n",
      "30/30 [==============================] - 4s 130ms/step - loss: 0.6927 - accuracy: 0.5097 - val_loss: 0.6927 - val_accuracy: 0.5073\n",
      "Epoch 4/40\n",
      "30/30 [==============================] - 4s 137ms/step - loss: 0.6923 - accuracy: 0.5290 - val_loss: 0.6921 - val_accuracy: 0.5488\n",
      "Epoch 5/40\n",
      "30/30 [==============================] - 4s 132ms/step - loss: 0.6916 - accuracy: 0.5471 - val_loss: 0.6912 - val_accuracy: 0.6491\n",
      "Epoch 6/40\n",
      "30/30 [==============================] - 4s 126ms/step - loss: 0.6903 - accuracy: 0.6189 - val_loss: 0.6896 - val_accuracy: 0.5753\n",
      "Epoch 7/40\n",
      "30/30 [==============================] - 4s 122ms/step - loss: 0.6873 - accuracy: 0.5945 - val_loss: 0.6858 - val_accuracy: 0.6225\n",
      "Epoch 8/40\n",
      "30/30 [==============================] - 4s 125ms/step - loss: 0.6828 - accuracy: 0.6265 - val_loss: 0.6806 - val_accuracy: 0.6735\n",
      "Epoch 9/40\n",
      "30/30 [==============================] - 4s 119ms/step - loss: 0.6759 - accuracy: 0.6668 - val_loss: 0.6729 - val_accuracy: 0.7053\n",
      "Epoch 10/40\n",
      "30/30 [==============================] - 4s 123ms/step - loss: 0.6664 - accuracy: 0.6825 - val_loss: 0.6633 - val_accuracy: 0.6574\n",
      "Epoch 11/40\n",
      "30/30 [==============================] - 4s 122ms/step - loss: 0.6543 - accuracy: 0.7130 - val_loss: 0.6506 - val_accuracy: 0.6964\n",
      "Epoch 12/40\n",
      "30/30 [==============================] - 4s 122ms/step - loss: 0.6398 - accuracy: 0.7352 - val_loss: 0.6361 - val_accuracy: 0.7465\n",
      "Epoch 13/40\n",
      "30/30 [==============================] - 4s 124ms/step - loss: 0.6242 - accuracy: 0.7400 - val_loss: 0.6205 - val_accuracy: 0.7583\n",
      "Epoch 14/40\n",
      "30/30 [==============================] - 4s 124ms/step - loss: 0.6062 - accuracy: 0.7599 - val_loss: 0.6047 - val_accuracy: 0.7499\n",
      "Epoch 15/40\n",
      "30/30 [==============================] - 4s 123ms/step - loss: 0.5883 - accuracy: 0.7739 - val_loss: 0.5878 - val_accuracy: 0.7582\n",
      "Epoch 16/40\n",
      "30/30 [==============================] - 4s 121ms/step - loss: 0.5693 - accuracy: 0.7872 - val_loss: 0.5698 - val_accuracy: 0.7846\n",
      "Epoch 17/40\n",
      "30/30 [==============================] - 4s 119ms/step - loss: 0.5505 - accuracy: 0.8011 - val_loss: 0.5529 - val_accuracy: 0.7937\n",
      "Epoch 18/40\n",
      "30/30 [==============================] - 4s 122ms/step - loss: 0.5317 - accuracy: 0.8104 - val_loss: 0.5359 - val_accuracy: 0.7974\n",
      "Epoch 19/40\n",
      "30/30 [==============================] - 4s 122ms/step - loss: 0.5128 - accuracy: 0.8210 - val_loss: 0.5189 - val_accuracy: 0.8079\n",
      "Epoch 20/40\n",
      "30/30 [==============================] - 4s 117ms/step - loss: 0.4948 - accuracy: 0.8279 - val_loss: 0.5026 - val_accuracy: 0.8158\n",
      "Epoch 21/40\n",
      "30/30 [==============================] - 4s 118ms/step - loss: 0.4771 - accuracy: 0.8371 - val_loss: 0.4868 - val_accuracy: 0.8223\n",
      "Epoch 22/40\n",
      "30/30 [==============================] - 4s 118ms/step - loss: 0.4600 - accuracy: 0.8441 - val_loss: 0.4715 - val_accuracy: 0.8274\n",
      "Epoch 23/40\n",
      "30/30 [==============================] - 4s 119ms/step - loss: 0.4439 - accuracy: 0.8503 - val_loss: 0.4614 - val_accuracy: 0.8174\n",
      "Epoch 24/40\n",
      "30/30 [==============================] - 4s 118ms/step - loss: 0.4292 - accuracy: 0.8523 - val_loss: 0.4458 - val_accuracy: 0.8375\n",
      "Epoch 25/40\n",
      "30/30 [==============================] - 4s 126ms/step - loss: 0.4139 - accuracy: 0.8581 - val_loss: 0.4356 - val_accuracy: 0.8316\n",
      "Epoch 26/40\n",
      "30/30 [==============================] - 4s 122ms/step - loss: 0.4002 - accuracy: 0.8657 - val_loss: 0.4227 - val_accuracy: 0.8440\n",
      "Epoch 27/40\n",
      "30/30 [==============================] - 4s 127ms/step - loss: 0.3884 - accuracy: 0.8676 - val_loss: 0.4089 - val_accuracy: 0.8500\n",
      "Epoch 28/40\n",
      "30/30 [==============================] - 4s 120ms/step - loss: 0.3761 - accuracy: 0.8727 - val_loss: 0.4005 - val_accuracy: 0.8524\n",
      "Epoch 29/40\n",
      "30/30 [==============================] - 4s 128ms/step - loss: 0.3647 - accuracy: 0.8781 - val_loss: 0.3914 - val_accuracy: 0.8542\n",
      "Epoch 30/40\n",
      "30/30 [==============================] - 4s 129ms/step - loss: 0.3536 - accuracy: 0.8819 - val_loss: 0.3830 - val_accuracy: 0.8587\n",
      "Epoch 31/40\n",
      "30/30 [==============================] - 4s 128ms/step - loss: 0.3439 - accuracy: 0.8856 - val_loss: 0.3744 - val_accuracy: 0.8589\n",
      "Epoch 32/40\n",
      "30/30 [==============================] - 4s 124ms/step - loss: 0.3357 - accuracy: 0.8865 - val_loss: 0.3675 - val_accuracy: 0.8615\n",
      "Epoch 33/40\n",
      "30/30 [==============================] - 4s 124ms/step - loss: 0.3264 - accuracy: 0.8895 - val_loss: 0.3614 - val_accuracy: 0.8639\n",
      "Epoch 34/40\n",
      "30/30 [==============================] - 4s 125ms/step - loss: 0.3192 - accuracy: 0.8916 - val_loss: 0.3561 - val_accuracy: 0.8653\n",
      "Epoch 35/40\n",
      "30/30 [==============================] - 4s 124ms/step - loss: 0.3110 - accuracy: 0.8943 - val_loss: 0.3513 - val_accuracy: 0.8659\n",
      "Epoch 36/40\n",
      "30/30 [==============================] - 4s 120ms/step - loss: 0.3045 - accuracy: 0.8975 - val_loss: 0.3447 - val_accuracy: 0.8694\n",
      "Epoch 37/40\n",
      "30/30 [==============================] - 4s 118ms/step - loss: 0.2972 - accuracy: 0.8999 - val_loss: 0.3396 - val_accuracy: 0.8722\n",
      "Epoch 38/40\n",
      "30/30 [==============================] - 4s 119ms/step - loss: 0.2906 - accuracy: 0.9023 - val_loss: 0.3353 - val_accuracy: 0.8734\n",
      "Epoch 39/40\n",
      "30/30 [==============================] - 4s 118ms/step - loss: 0.2842 - accuracy: 0.9035 - val_loss: 0.3323 - val_accuracy: 0.8732\n",
      "Epoch 40/40\n",
      "30/30 [==============================] - 4s 123ms/step - loss: 0.2786 - accuracy: 0.9049 - val_loss: 0.3276 - val_accuracy: 0.8747\n"
     ]
    }
   ],
   "source": [
    "history = model.fit(partial_x_train,\n",
    "                    partial_y_train,\n",
    "                    epochs=40,\n",
    "                    batch_size=512,\n",
    "                    validation_data=(x_val, y_val),\n",
    "                    verbose=1)"
   ]
  },
  {
   "cell_type": "code",
   "execution_count": 27,
   "id": "8d4ae320-40a5-407d-8ec4-df0dfca7e7de",
   "metadata": {},
   "outputs": [
    {
     "name": "stdout",
     "output_type": "stream",
     "text": [
      "782/782 - 3s - loss: 0.3265 - accuracy: 0.8723 - 3s/epoch - 4ms/step\n",
      "[0.326487272977829, 0.8723199963569641]\n"
     ]
    }
   ],
   "source": [
    "results = model.evaluate(test_data,  test_labels, verbose=2)\n",
    "\n",
    "print(results)"
   ]
  },
  {
   "cell_type": "code",
   "execution_count": 28,
   "id": "3978de4d-fef7-4210-9236-890018ebc68f",
   "metadata": {},
   "outputs": [
    {
     "data": {
      "image/png": "[encoded data removed]",
      "text/plain": [
       "<Figure size 640x480 with 1 Axes>"
      ]
     },
     "metadata": {},
     "output_type": "display_data"
    }
   ],
   "source": [
    "import matplotlib.pyplot as plt\n",
    "history_dict = history.history\n",
    "\n",
    "acc = history_dict['accuracy']\n",
    "val_acc = history_dict['val_accuracy']\n",
    "loss = history_dict['loss']\n",
    "val_loss = history_dict['val_loss']\n",
    "\n",
    "epochs = range(1, len(acc) + 1)\n",
    "\n",
    "# \"bo\"는 \"파란색 점\"입니다\n",
    "plt.plot(epochs, loss, 'bo', label='Training loss')\n",
    "# b는 \"파란 실선\"입니다\n",
    "plt.plot(epochs, val_loss, 'b', label='Validation loss')\n",
    "plt.title('Training and validation loss')\n",
    "plt.xlabel('Epochs')\n",
    "plt.ylabel('Loss')\n",
    "plt.legend()\n",
    "\n",
    "plt.show()"
   ]
  },
  {
   "cell_type": "code",
   "execution_count": 29,
   "id": "db93b9ca-4a8c-4531-998b-b6f8618ccddc",
   "metadata": {},
   "outputs": [
    {
     "data": {
      "image/png": "[encoded data removed]",
      "text/plain": [
       "<Figure size 640x480 with 1 Axes>"
      ]
     },
     "metadata": {},
     "output_type": "display_data"
    }
   ],
   "source": [
    "plt.clf()   # 그림을 초기화\n",
    "\n",
    "plt.plot(epochs, acc, 'bo', label='Training acc')\n",
    "plt.plot(epochs, val_acc, 'b', label='Validation acc')\n",
    "plt.title('Training and validation accuracy')\n",
    "plt.xlabel('Epochs')\n",
    "plt.ylabel('Accuracy')\n",
    "plt.legend()\n",
    "\n",
    "plt.show()"
   ]
  },
  {
   "cell_type": "markdown",
   "id": "360ddd28-f330-437e-8227-930071a892d3",
   "metadata": {},
   "source": [
    "## 순환 신경망을 이용한 예제\n",
    "\n",
    "자연어 처리를 할 때, sequence로 표현되는 문장의 특성 상 순환 신경망 구조를 가지는 모형을 이용하는 경우가 많다.\n",
    "\n",
    "문장에는 문자나 단어의 순서가 있으며, 순환 신경망 구조는 이러한 순서 정보를 잘 처리할 수 있기 때문이다.\n",
    "\n",
    "아래에서는 셰익스피어의 작품 중 일부를 활용하여 자연어 처리를 하는 예제를 살펴본다."
   ]
  },
  {
   "cell_type": "code",
   "execution_count": 120,
   "id": "79894fa2-f2b1-416e-b055-e8aff6c67aff",
   "metadata": {},
   "outputs": [],
   "source": [
    "shakespeare_url = \"https://homl.info/shakespeare\" # shortcut URL\n",
    "filepath = keras.utils.get_file(\"shakespeare.txt\", shakespeare_url)\n",
    "with open(filepath) as f:\n",
    "    shakespeare_text = f.read()"
   ]
  },
  {
   "cell_type": "code",
   "execution_count": 121,
   "id": "f986d1c1-45b9-44c7-9525-171bede9a5aa",
   "metadata": {},
   "outputs": [
    {
     "data": {
      "text/plain": [
       "\"itizen:\\nSoft! who comes here?\\n\\nSecond Citizen:\\nWorthy Menenius Agrippa; one that hath always loved\\nthe people.\\n\\nFirst Citizen:\\nHe's one honest enough: would all the rest were so!\\n\\nMENENIUS:\\nWhat work's, my countrymen, in hand? where go you\\nWith bats and clubs? The matter? speak, I pray you.\\n\\nFirst Citizen:\\nOur business is not unknown to the senate; they have\\nhad inkling this fortnight what we intend to do,\\nwhich now we'll show 'em in deeds. They say poor\\nsuitors have strong breaths: they shall k\""
      ]
     },
     "execution_count": 121,
     "metadata": {},
     "output_type": "execute_result"
    }
   ],
   "source": [
    "# 일부를 선택하여 출력\n",
    "shakespeare_text[2000:2500]"
   ]
  },
  {
   "cell_type": "markdown",
   "id": "334c990c-6ca9-49aa-97ec-862654b5696c",
   "metadata": {},
   "source": [
    "다운받은 자료는 실제 영어 문장으로 되어 있기 때문에, [`keras.preprocessing.text.Tokenizer`](https://www.tensorflow.org/api_docs/python/tf/keras/preprocessing/text/Tokenizer)를 이용하여 단어 혹은 문자들을 정수 체계로 변환할 수 있다.\n",
    "\n",
    "아래에서는 `char_level=True`로 하여 문자를 정수로 변환한다. 이러한 방법은 문장을 문자 단위로 처리할 때 유용하다."
   ]
  },
  {
   "cell_type": "code",
   "execution_count": 122,
   "id": "b49e1688-b139-43d1-ae2a-9298d5678902",
   "metadata": {},
   "outputs": [],
   "source": [
    "tokenizer = keras.preprocessing.text.Tokenizer(char_level=True)\n",
    "tokenizer.fit_on_texts(shakespeare_text)"
   ]
  },
  {
   "cell_type": "markdown",
   "id": "6ec7940b-00c4-4156-be63-2d51bb6211b6",
   "metadata": {},
   "source": [
    "자료가 다소 방대하여 훈련에 시간이 오래 걸리기 때문에 일부만을 선택하여 분석을 진행하겠다.\n",
    "\n",
    "만약 시간이 넉넉하다면 전체 데이터 셋으로 훈련해도 된다."
   ]
  },
  {
   "cell_type": "code",
   "execution_count": 123,
   "id": "bfb05588-cddd-4956-ad16-34aea514adec",
   "metadata": {},
   "outputs": [],
   "source": [
    "shakespeare_text = shakespeare_text[:30000]"
   ]
  },
  {
   "cell_type": "markdown",
   "id": "65bee3e8-4a33-4b92-b8fe-2d3ace06e892",
   "metadata": {},
   "source": [
    "`tokenizer.texts_to_sequences`는 텍스트 데이터를 정수 시퀀스로 변환하는 역할을 한다."
   ]
  },
  {
   "cell_type": "code",
   "execution_count": 124,
   "id": "de8cbb5b-a101-47cd-bce2-93cd77e82520",
   "metadata": {},
   "outputs": [
    {
     "data": {
      "text/plain": [
       "[[20, 6, 9, 8, 3]]"
      ]
     },
     "execution_count": 124,
     "metadata": {},
     "output_type": "execute_result"
    }
   ],
   "source": [
    "tokenizer.texts_to_sequences([\"First\"])"
   ]
  },
  {
   "cell_type": "markdown",
   "id": "444d7d2a-d72e-4b37-be6e-c25de911fb9c",
   "metadata": {},
   "source": [
    "`tokenizer.sequences_to_texts`는 정수 시퀀스를 텍스트 데이터로 변환한다."
   ]
  },
  {
   "cell_type": "code",
   "execution_count": 125,
   "id": "7e9b8dd4-9dcf-4de4-936a-5ae247659587",
   "metadata": {},
   "outputs": [
    {
     "data": {
      "text/plain": [
       "['f i r s t']"
      ]
     },
     "execution_count": 125,
     "metadata": {},
     "output_type": "execute_result"
    }
   ],
   "source": [
    "tokenizer.sequences_to_texts([[20, 6, 9, 8, 3]])"
   ]
  },
  {
   "cell_type": "code",
   "execution_count": 126,
   "id": "1f2dbd1e-08c8-461d-baf5-67d88ace3938",
   "metadata": {},
   "outputs": [],
   "source": [
    "max_id = len(tokenizer.word_index) # number of distinct characters\n",
    "dataset_size = tokenizer.document_count"
   ]
  },
  {
   "cell_type": "markdown",
   "id": "f0ecd4d8-9972-4ecf-b751-b74d53c9515f",
   "metadata": {},
   "source": [
    "모든 문장의 글자들을 정수 리스트로 변환한 후, numpy array로 변환한다.\n",
    "\n",
    "`-1`을 취하는 것은 정수값을 0부터 시작하게 하기 위함이다."
   ]
  },
  {
   "cell_type": "code",
   "execution_count": 127,
   "id": "366bc27c-0dc6-49e8-abac-a47bb17b7075",
   "metadata": {},
   "outputs": [],
   "source": [
    "[encoded] = np.array(tokenizer.texts_to_sequences([shakespeare_text])) - 1"
   ]
  },
  {
   "cell_type": "code",
   "execution_count": 128,
   "id": "150ea8e7-bfe8-4d1d-87fa-8c04aa05fc83",
   "metadata": {},
   "outputs": [
    {
     "data": {
      "text/plain": [
       "((30000,), array([19,  5,  8,  7,  2,  0, 18,  5,  2,  5]))"
      ]
     },
     "execution_count": 128,
     "metadata": {},
     "output_type": "execute_result"
    }
   ],
   "source": [
    "encoded.shape, encoded[:10]"
   ]
  },
  {
   "cell_type": "markdown",
   "id": "8f77c735-70d3-450b-85cd-c7501fc18e17",
   "metadata": {},
   "source": [
    "`tf.data.Dataset.from_tensor_slices`를 이용하여 데이터를 보다 활용하기 쉽도록 만들겠다.\n",
    "\n",
    "이 메세드를 통해 데이터를 변환하면, 추후에 `window`, `batch`, `shuffle` 등 다양한 데이터셋 변환 메서드를 활용하여 데이터를 이차적으로 변환하여 사용하기 쉽다."
   ]
  },
  {
   "cell_type": "code",
   "execution_count": 129,
   "id": "6131f447-520a-4f2c-97e0-7b60115a71af",
   "metadata": {},
   "outputs": [],
   "source": [
    "train_size = dataset_size * 90 // 100  # 90%는 훈련 세트\n",
    "dataset = tf.data.Dataset.from_tensor_slices(encoded[:train_size])"
   ]
  },
  {
   "cell_type": "markdown",
   "id": "3d9fd596-be24-48d4-8256-d1b3eb27dbbc",
   "metadata": {},
   "source": [
    "아래 코드에서는 시퀀스 데이터를 윈도우(window)로 나누는 작업을 수행한다.\n",
    "\n",
    "즉, 긴 문자열을 101개 길이의 작은 문자열들로 잘라낸다.\n",
    "\n",
    "- 여기서 마지막 문자는 target variable의 역할을 하고, 앞의 100개의 문자는 feature 변수의 역할을 할 것이다."
   ]
  },
  {
   "cell_type": "code",
   "execution_count": 130,
   "id": "8e910d28-a9e5-493f-8b58-37ff27cdb465",
   "metadata": {},
   "outputs": [],
   "source": [
    "n_steps = 100\n",
    "window_length = n_steps + 1 # target = input shifted 1 character ahead\n",
    "dataset = dataset.window(window_length, shift=1, drop_remainder=True)"
   ]
  },
  {
   "cell_type": "markdown",
   "id": "670f9a5b-8b6a-4a2d-a235-87007029ba23",
   "metadata": {},
   "source": [
    "간단히 출력하여 확인해 보자.\n",
    "데이터의 구조를 보여주기 위해 강제로 대골호 기호를 추가하였따."
   ]
  },
  {
   "cell_type": "code",
   "execution_count": 131,
   "id": "52157dc8-d76b-4d36-88a1-db3279da1c36",
   "metadata": {},
   "outputs": [
    {
     "name": "stdout",
     "output_type": "stream",
     "text": [
      "[[19] [5] [8] [7] [2] [0] [18] [5] [2] [5] [35] [1] [9] [23] [10] [21] [1] [19] [3] [8] [1] [0] [16] [1] [0] [22] [8] [3] [18] [1] [1] [12] [0] [4] [9] [15] [0] [19] [13] [8] [2] [6] [1] [8] [17] [0] [6] [1] [4] [8] [0] [14] [1] [0] [7] [22] [1] [4] [24] [26] [10] [10] [4] [11] [11] [23] [10] [7] [22] [1] [4] [24] [17] [0] [7] [22] [1] [4] [24] [26] [10] [10] [19] [5] [8] [7] [2] [0] [18] [5] [2] [5] [35] [1] [9] [23] [10] [15] [3] [13] [0] ]\n",
      "\n",
      "[[5] [8] [7] [2] [0] [18] [5] [2] [5] [35] [1] [9] [23] [10] [21] [1] [19] [3] [8] [1] [0] [16] [1] [0] [22] [8] [3] [18] [1] [1] [12] [0] [4] [9] [15] [0] [19] [13] [8] [2] [6] [1] [8] [17] [0] [6] [1] [4] [8] [0] [14] [1] [0] [7] [22] [1] [4] [24] [26] [10] [10] [4] [11] [11] [23] [10] [7] [22] [1] [4] [24] [17] [0] [7] [22] [1] [4] [24] [26] [10] [10] [19] [5] [8] [7] [2] [0] [18] [5] [2] [5] [35] [1] [9] [23] [10] [15] [3] [13] [0] [4] ]\n",
      "\n",
      "[[8] [7] [2] [0] [18] [5] [2] [5] [35] [1] [9] [23] [10] [21] [1] [19] [3] [8] [1] [0] [16] [1] [0] [22] [8] [3] [18] [1] [1] [12] [0] [4] [9] [15] [0] [19] [13] [8] [2] [6] [1] [8] [17] [0] [6] [1] [4] [8] [0] [14] [1] [0] [7] [22] [1] [4] [24] [26] [10] [10] [4] [11] [11] [23] [10] [7] [22] [1] [4] [24] [17] [0] [7] [22] [1] [4] [24] [26] [10] [10] [19] [5] [8] [7] [2] [0] [18] [5] [2] [5] [35] [1] [9] [23] [10] [15] [3] [13] [0] [4] [8] ]\n",
      "\n"
     ]
    }
   ],
   "source": [
    "for window in dataset.take(3):\n",
    "    print(\"[\", end=\"\")\n",
    "    for element in window:\n",
    "        print(\"[\", end=\"\")\n",
    "        print(element.numpy(), end=\"] \")\n",
    "    print(\"]\")\n",
    "    print()"
   ]
  },
  {
   "cell_type": "markdown",
   "id": "9e535edf-10a4-4abb-aa7a-3cec37d20c35",
   "metadata": {},
   "source": [
    "다음 코드를 통하여 데이터를 flat화 및 배치화하겠다."
   ]
  },
  {
   "cell_type": "code",
   "execution_count": 132,
   "id": "02356e64-4b4c-4d86-afdb-ac8d95d3f3fc",
   "metadata": {},
   "outputs": [],
   "source": [
    "dataset = dataset.flat_map(lambda window: window.batch(window_length))"
   ]
  },
  {
   "cell_type": "code",
   "execution_count": 133,
   "id": "f58be31c-b6d7-4620-9e44-73b63f1f0aed",
   "metadata": {},
   "outputs": [
    {
     "name": "stdout",
     "output_type": "stream",
     "text": [
      "tf.Tensor(\n",
      "[19  5  8  7  2  0 18  5  2  5 35  1  9 23 10 21  1 19  3  8  1  0 16  1\n",
      "  0 22  8  3 18  1  1 12  0  4  9 15  0 19 13  8  2  6  1  8 17  0  6  1\n",
      "  4  8  0 14  1  0  7 22  1  4 24 26 10 10  4 11 11 23 10  7 22  1  4 24\n",
      " 17  0  7 22  1  4 24 26 10 10 19  5  8  7  2  0 18  5  2  5 35  1  9 23\n",
      " 10 15  3 13  0], shape=(101,), dtype=int32)\n",
      "tf.Tensor(\n",
      "[ 5  8  7  2  0 18  5  2  5 35  1  9 23 10 21  1 19  3  8  1  0 16  1  0\n",
      " 22  8  3 18  1  1 12  0  4  9 15  0 19 13  8  2  6  1  8 17  0  6  1  4\n",
      "  8  0 14  1  0  7 22  1  4 24 26 10 10  4 11 11 23 10  7 22  1  4 24 17\n",
      "  0  7 22  1  4 24 26 10 10 19  5  8  7  2  0 18  5  2  5 35  1  9 23 10\n",
      " 15  3 13  0  4], shape=(101,), dtype=int32)\n",
      "tf.Tensor(\n",
      "[ 8  7  2  0 18  5  2  5 35  1  9 23 10 21  1 19  3  8  1  0 16  1  0 22\n",
      "  8  3 18  1  1 12  0  4  9 15  0 19 13  8  2  6  1  8 17  0  6  1  4  8\n",
      "  0 14  1  0  7 22  1  4 24 26 10 10  4 11 11 23 10  7 22  1  4 24 17  0\n",
      "  7 22  1  4 24 26 10 10 19  5  8  7  2  0 18  5  2  5 35  1  9 23 10 15\n",
      "  3 13  0  4  8], shape=(101,), dtype=int32)\n"
     ]
    }
   ],
   "source": [
    "for window in dataset.take(3):\n",
    "    print(window)"
   ]
  },
  {
   "cell_type": "markdown",
   "id": "9a9668ce-aa50-4dd8-b08b-ba418cf5126d",
   "metadata": {},
   "source": [
    "아래 코드는 데이터 전처리 단계로 데이터를 랜덤하게 섞고, batch로 형성한다."
   ]
  },
  {
   "cell_type": "code",
   "execution_count": 134,
   "id": "26b2d57a-0f2e-4bf1-83da-889746bd744a",
   "metadata": {},
   "outputs": [],
   "source": [
    "batch_size = 32\n",
    "dataset = dataset.shuffle(10000).batch(batch_size)"
   ]
  },
  {
   "cell_type": "code",
   "execution_count": 135,
   "id": "70e8d014-2425-47f4-8315-560ef4530c7d",
   "metadata": {},
   "outputs": [
    {
     "name": "stdout",
     "output_type": "stream",
     "text": [
      "tf.Tensor(\n",
      "[[ 0  8  4 ... 16  1  8]\n",
      " [ 7 17  0 ...  0 18  5]\n",
      " [ 0  8  1 ...  0  7  3]\n",
      " ...\n",
      " [ 7  2  0 ... 11 11 15]\n",
      " [ 8  7  2 ...  6  1  4]\n",
      " [10 10 19 ... 11  1 23]], shape=(32, 101), dtype=int32)\n",
      "tf.Tensor(\n",
      "[[22  0 15 ...  6  1  5]\n",
      " [ 6  0 14 ...  1  9  1]\n",
      " [10 16  1 ... 11  1  4]\n",
      " ...\n",
      " [ 1  4  8 ... 11  5 25]\n",
      " [ 5  2  5 ... 10  2  6]\n",
      " [ 9  7  2 ...  4  7  0]], shape=(32, 101), dtype=int32)\n"
     ]
    }
   ],
   "source": [
    "for window in dataset.take(2):\n",
    "    print(window)"
   ]
  },
  {
   "cell_type": "markdown",
   "id": "ceac3b93-9aa5-4cf7-9534-969edda4f2fa",
   "metadata": {},
   "source": [
    "아래 코드는  데이터를 입력과 타겟으로 나눈다.\n",
    "\n",
    "- `windows[:, :-1]`는 각 시퀀스의 마지막 값을 제외한 모든 값을 선택\n",
    "- `windows[:, 1:]`는 각 시퀀스의 첫 번째 값을 제외한 모든 값을 선택"
   ]
  },
  {
   "cell_type": "code",
   "execution_count": 136,
   "id": "514b07de-17ba-4a19-b7e2-55d31d00f2f3",
   "metadata": {},
   "outputs": [],
   "source": [
    "dataset = dataset.map(lambda windows: (windows[:, :-1], windows[:, 1:]))"
   ]
  },
  {
   "cell_type": "code",
   "execution_count": 137,
   "id": "5a58de09-5ad2-4733-b0a7-a44c48fb15d2",
   "metadata": {},
   "outputs": [
    {
     "name": "stdout",
     "output_type": "stream",
     "text": [
      "(<tf.Tensor: shape=(32, 100), dtype=int32, numpy=\n",
      "array([[ 0, 16,  5, ...,  9,  2,  0],\n",
      "       [13,  7, 23, ...,  9,  7,  1],\n",
      "       [12,  3,  9, ...,  0, 18,  5],\n",
      "       ...,\n",
      "       [14, 13, 11, ..., 17, 10,  3],\n",
      "       [ 0,  4,  2, ..., 12,  0, 18],\n",
      "       [ 0,  4,  9, ...,  6,  4,  2]])>, <tf.Tensor: shape=(32, 100), dtype=int32, numpy=\n",
      "array([[16,  5,  9, ...,  2,  0,  3],\n",
      "       [ 7, 23, 10, ...,  7,  1, 11],\n",
      "       [ 3,  9,  1, ..., 18,  5,  2],\n",
      "       ...,\n",
      "       [13, 11,  4, ..., 10,  3, 19],\n",
      "       [ 4,  2,  0, ...,  0, 18,  5],\n",
      "       [ 4,  9, 12, ...,  4,  2,  0]])>)\n"
     ]
    }
   ],
   "source": [
    "for window in dataset.take(1):\n",
    "    print(window)"
   ]
  },
  {
   "cell_type": "markdown",
   "id": "2d990dbb-c330-4cd4-ae4b-73049cb70771",
   "metadata": {},
   "source": [
    "아래에서는 입력 데이터를 one-hot 벡터로 변환하는 작업을 수행한다. "
   ]
  },
  {
   "cell_type": "code",
   "execution_count": 138,
   "id": "4e2b57fd-d674-4092-83d2-d960a0613477",
   "metadata": {},
   "outputs": [],
   "source": [
    "dataset = dataset.map(lambda X_batch, Y_batch: (tf.one_hot(X_batch, depth=max_id), Y_batch))"
   ]
  },
  {
   "cell_type": "code",
   "execution_count": 139,
   "id": "5313d75f-40db-41f3-b032-72effd7ce346",
   "metadata": {},
   "outputs": [
    {
     "name": "stdout",
     "output_type": "stream",
     "text": [
      "(<tf.Tensor: shape=(32, 100, 39), dtype=float32, numpy=\n",
      "array([[[0., 0., 0., ..., 0., 0., 0.],\n",
      "        [1., 0., 0., ..., 0., 0., 0.],\n",
      "        [0., 0., 0., ..., 0., 0., 0.],\n",
      "        ...,\n",
      "        [1., 0., 0., ..., 0., 0., 0.],\n",
      "        [0., 0., 1., ..., 0., 0., 0.],\n",
      "        [0., 0., 0., ..., 0., 0., 0.]],\n",
      "\n",
      "       [[0., 0., 0., ..., 0., 0., 0.],\n",
      "        [0., 0., 0., ..., 0., 0., 0.],\n",
      "        [1., 0., 0., ..., 0., 0., 0.],\n",
      "        ...,\n",
      "        [1., 0., 0., ..., 0., 0., 0.],\n",
      "        [0., 0., 1., ..., 0., 0., 0.],\n",
      "        [0., 0., 0., ..., 0., 0., 0.]],\n",
      "\n",
      "       [[0., 1., 0., ..., 0., 0., 0.],\n",
      "        [0., 1., 0., ..., 0., 0., 0.],\n",
      "        [1., 0., 0., ..., 0., 0., 0.],\n",
      "        ...,\n",
      "        [0., 1., 0., ..., 0., 0., 0.],\n",
      "        [1., 0., 0., ..., 0., 0., 0.],\n",
      "        [0., 0., 0., ..., 0., 0., 0.]],\n",
      "\n",
      "       ...,\n",
      "\n",
      "       [[0., 0., 0., ..., 0., 0., 0.],\n",
      "        [0., 0., 0., ..., 0., 0., 0.],\n",
      "        [0., 0., 0., ..., 0., 0., 0.],\n",
      "        ...,\n",
      "        [1., 0., 0., ..., 0., 0., 0.],\n",
      "        [0., 0., 0., ..., 0., 0., 0.],\n",
      "        [0., 0., 0., ..., 0., 0., 0.]],\n",
      "\n",
      "       [[0., 0., 0., ..., 0., 0., 0.],\n",
      "        [0., 0., 1., ..., 0., 0., 0.],\n",
      "        [0., 0., 0., ..., 0., 0., 0.],\n",
      "        ...,\n",
      "        [1., 0., 0., ..., 0., 0., 0.],\n",
      "        [0., 0., 0., ..., 0., 0., 0.],\n",
      "        [0., 1., 0., ..., 0., 0., 0.]],\n",
      "\n",
      "       [[0., 0., 0., ..., 0., 0., 0.],\n",
      "        [0., 0., 0., ..., 0., 0., 0.],\n",
      "        [0., 0., 0., ..., 0., 0., 0.],\n",
      "        ...,\n",
      "        [1., 0., 0., ..., 0., 0., 0.],\n",
      "        [0., 0., 0., ..., 0., 0., 0.],\n",
      "        [0., 0., 0., ..., 0., 0., 0.]]], dtype=float32)>, <tf.Tensor: shape=(32, 100), dtype=int32, numpy=\n",
      "array([[ 0, 14,  1, ...,  2,  6,  1],\n",
      "       [ 5,  0, 16, ...,  2,  6,  1],\n",
      "       [ 1,  0, 16, ...,  0, 19, 11],\n",
      "       ...,\n",
      "       [23, 10, 19, ..., 18,  5,  2],\n",
      "       [ 2,  4, 21, ..., 16,  1, 11],\n",
      "       [20,  6,  0, ...,  7,  5,  8]])>)\n"
     ]
    }
   ],
   "source": [
    "for window in dataset.take(1):\n",
    "    print(window)"
   ]
  },
  {
   "cell_type": "markdown",
   "id": "67d311df-53da-4a74-9102-59dbb6478f8a",
   "metadata": {},
   "source": [
    "다음 코드는 데이터 처리의 효율을 위한 것으로, 훈련 동안 다음 차례의 배치를 미리 준비하는 역할을 한다."
   ]
  },
  {
   "cell_type": "code",
   "execution_count": 140,
   "id": "90ba93d0-b8a1-4bd9-8119-02620ec911d3",
   "metadata": {},
   "outputs": [],
   "source": [
    "dataset = dataset.prefetch(1)"
   ]
  },
  {
   "cell_type": "markdown",
   "id": "feee5033-dcbb-4ea7-9dd7-302043a68121",
   "metadata": {},
   "source": [
    "LSTM을 이용한 모형을 설정하고 훈련하자."
   ]
  },
  {
   "cell_type": "code",
   "execution_count": 141,
   "id": "2762dd56-7f32-4acf-aa9c-0b8fcbd13a63",
   "metadata": {},
   "outputs": [
    {
     "name": "stdout",
     "output_type": "stream",
     "text": [
      "Epoch 1/20\n",
      "935/935 [==============================] - 144s 144ms/step - loss: 2.8150\n",
      "Epoch 2/20\n",
      "935/935 [==============================] - 148s 156ms/step - loss: 2.4162\n",
      "Epoch 3/20\n",
      "935/935 [==============================] - 144s 152ms/step - loss: 2.2900\n",
      "Epoch 4/20\n",
      "935/935 [==============================] - 147s 155ms/step - loss: 2.1973\n",
      "Epoch 5/20\n",
      "935/935 [==============================] - 144s 152ms/step - loss: 2.1164\n",
      "Epoch 6/20\n",
      "935/935 [==============================] - 145s 153ms/step - loss: 2.0525\n",
      "Epoch 7/20\n",
      "935/935 [==============================] - 145s 153ms/step - loss: 2.0021\n",
      "Epoch 8/20\n",
      "935/935 [==============================] - 147s 155ms/step - loss: 1.9617\n",
      "Epoch 9/20\n",
      "935/935 [==============================] - 146s 154ms/step - loss: 1.9321\n",
      "Epoch 10/20\n",
      "935/935 [==============================] - 145s 153ms/step - loss: 1.9089\n",
      "Epoch 11/20\n",
      "935/935 [==============================] - 144s 152ms/step - loss: 1.8911\n",
      "Epoch 12/20\n",
      "935/935 [==============================] - 143s 151ms/step - loss: 1.8763\n",
      "Epoch 13/20\n",
      "935/935 [==============================] - 145s 153ms/step - loss: 1.8644\n",
      "Epoch 14/20\n",
      "935/935 [==============================] - 146s 155ms/step - loss: 1.8547\n",
      "Epoch 15/20\n",
      "935/935 [==============================] - 140s 148ms/step - loss: 1.8469\n",
      "Epoch 16/20\n",
      "935/935 [==============================] - 145s 153ms/step - loss: 1.8393\n",
      "Epoch 17/20\n",
      "935/935 [==============================] - 143s 151ms/step - loss: 1.8334\n",
      "Epoch 18/20\n",
      "935/935 [==============================] - 146s 154ms/step - loss: 1.8276\n",
      "Epoch 19/20\n",
      "935/935 [==============================] - 143s 151ms/step - loss: 1.8228\n",
      "Epoch 20/20\n",
      "935/935 [==============================] - 144s 152ms/step - loss: 1.8171\n"
     ]
    }
   ],
   "source": [
    "model = keras.models.Sequential([\n",
    "    keras.layers.LSTM(32, return_sequences=True, input_shape=[None, max_id], dropout=0.2, recurrent_dropout=0.2),\n",
    "    keras.layers.LSTM(32, return_sequences=True, dropout=0.2, recurrent_dropout=0.2),\n",
    "    keras.layers.TimeDistributed(keras.layers.Dense(max_id, activation=\"softmax\"))\n",
    "])\n",
    "model.compile(loss=\"sparse_categorical_crossentropy\", optimizer=\"adam\")\n",
    "history = model.fit(dataset, epochs=20)"
   ]
  },
  {
   "cell_type": "markdown",
   "id": "579a9b02-8ccb-4640-a581-e52ec5fa36d1",
   "metadata": {},
   "source": [
    "훈련된 결과를 간단히 확인해 보자.\n",
    "\n",
    "다음의 `preprocess` 함수는 텍스트를 입력 받아, 신경망에 입력할 수 있도록 변환한다.\n",
    "\n",
    "최종적으로 문자열을 one-hot 코딩된 값들로 변환한다."
   ]
  },
  {
   "cell_type": "code",
   "execution_count": 142,
   "id": "3134ce40-e609-456d-bed5-d8b6fbdd4b77",
   "metadata": {},
   "outputs": [],
   "source": [
    "def preprocess(texts):\n",
    "    X = np.array(tokenizer.texts_to_sequences(texts)) - 1\n",
    "    return tf.one_hot(X, max_id)"
   ]
  },
  {
   "cell_type": "markdown",
   "id": "608118fa-7440-4694-ad52-ddf9031ade68",
   "metadata": {},
   "source": [
    "\"How are yo\"의 다음 글자를 예측해 보자.\n",
    "\n",
    "이를 위해 \"How are yo\"를 preprocessing하여 훈련된 모형에 입력한다.\n",
    "\n",
    "출력 결과는 100개의 값이 나타나며, 이 중의 가장 마지막 값이 예측 대상이므로 `[0, -1]`를 선택하였다.\n",
    "\n",
    "출력 결과는 각 글자에 대한 확률값이므로, `np.argmax`를 사용하여 해당 글자의 인덱스 번호를 찾아낸다.\n",
    "\n",
    "`tokenizer.sequences_to_texts`는 이 값을 다시 문자로 바꾸어준다."
   ]
  },
  {
   "cell_type": "code",
   "execution_count": 143,
   "id": "ab5f1092-6c14-4824-a821-8d5f870d3cd8",
   "metadata": {},
   "outputs": [
    {
     "name": "stdout",
     "output_type": "stream",
     "text": [
      "1/1 [==============================] - 1s 521ms/step\n"
     ]
    },
    {
     "data": {
      "text/plain": [
       "['u']"
      ]
     },
     "execution_count": 143,
     "metadata": {},
     "output_type": "execute_result"
    }
   ],
   "source": [
    "X_new = preprocess([\"How are yo\"])\n",
    "y_proba = model.predict(X_new)[0, -1]\n",
    "y_pred = np.argmax(y_proba)\n",
    "tokenizer.sequences_to_texts([[y_pred + 1]])"
   ]
  },
  {
   "cell_type": "code",
   "execution_count": 144,
   "id": "30a7e9bd-f667-43d1-a1ad-5e04496f5271",
   "metadata": {},
   "outputs": [
    {
     "name": "stdout",
     "output_type": "stream",
     "text": [
      "1/1 [==============================] - 1s 519ms/step\n"
     ]
    },
    {
     "data": {
      "text/plain": [
       "['e']"
      ]
     },
     "execution_count": 144,
     "metadata": {},
     "output_type": "execute_result"
    }
   ],
   "source": [
    "X_new = preprocess([\"To be or not to b\"])\n",
    "y_proba = model.predict(X_new)[0, -1]\n",
    "y_pred = np.argmax(y_proba)\n",
    "tokenizer.sequences_to_texts([[y_pred + 1]])"
   ]
  }
 ],
 "metadata": {
  "kernelspec": {
   "display_name": "Python 3 (ipykernel)",
   "language": "python",
   "name": "python3"
  },
  "language_info": {
   "codemirror_mode": {
    "name": "ipython",
    "version": 3
   },
   "file_extension": ".py",
   "mimetype": "text/x-python",
   "name": "python",
   "nbconvert_exporter": "python",
   "pygments_lexer": "ipython3",
   "version": "3.10.11"
  }
 },
 "nbformat": 4,
 "nbformat_minor": 5
}
